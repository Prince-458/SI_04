{
  "nbformat": 4,
  "nbformat_minor": 0,
  "metadata": {
    "colab": {
      "provenance": []
    },
    "kernelspec": {
      "name": "python3",
      "display_name": "Python 3"
    },
    "language_info": {
      "name": "python"
    }
  },
  "cells": [
    {
      "cell_type": "code",
      "execution_count": 3,
      "metadata": {
        "colab": {
          "base_uri": "https://localhost:8080/"
        },
        "id": "-TKIUdoh0f-_",
        "outputId": "2419177f-21c2-4f40-f0a1-f1777d4e6094"
      },
      "outputs": [
        {
          "output_type": "stream",
          "name": "stdout",
          "text": [
            "Requirement already satisfied: cryptography in /usr/local/lib/python3.10/dist-packages (43.0.3)\n",
            "Requirement already satisfied: cffi>=1.12 in /usr/local/lib/python3.10/dist-packages (from cryptography) (1.17.1)\n",
            "Requirement already satisfied: pycparser in /usr/local/lib/python3.10/dist-packages (from cffi>=1.12->cryptography) (2.22)\n"
          ]
        }
      ],
      "source": [
        "!pip install cryptography"
      ]
    },
    {
      "cell_type": "code",
      "source": [
        "from cryptography.fernet import Fernet\n",
        "\n",
        "# Generate a key and save it to a file\n",
        "def generate_key(file_name=\"secret.key\"):\n",
        "    key = Fernet.generate_key()\n",
        "    with open(file_name, \"wb\") as key_file:\n",
        "        key_file.write(key)\n",
        "    print(f\"Key saved to {file_name}\")\n",
        "\n",
        "# Load the key from a file\n",
        "def load_key(file_name=\"secret.key\"):\n",
        "    try:\n",
        "        with open(file_name, \"rb\") as key_file:\n",
        "            return key_file.read()\n",
        "    except FileNotFoundError:\n",
        "        print(f\"Error: {file_name} not found. Generate a key first!\")\n",
        "        return None\n",
        "\n",
        "# Encrypt data\n",
        "def encrypt_data(data, key):\n",
        "    fernet = Fernet(key)\n",
        "    encrypted_data = fernet.encrypt(data.encode())\n",
        "    return encrypted_data\n",
        "\n",
        "# Decrypt data\n",
        "def decrypt_data(encrypted_data, key):\n",
        "    fernet = Fernet(key)\n",
        "    try:\n",
        "        decrypted_data = fernet.decrypt(encrypted_data).decode()\n",
        "        return decrypted_data\n",
        "    except Exception as e:\n",
        "        print(\"Error: Unable to decrypt. Possible wrong key or corrupted data.\")\n",
        "        return None\n",
        "\n",
        "# Main function\n",
        "if __name__ == \"__main__\":\n",
        "    print(\"=== Data Encryption & Decryption Tool ===\")\n",
        "    while True:\n",
        "        print(\"\\nOptions:\")\n",
        "        print(\"1. Generate a new key\")\n",
        "        print(\"2. Encrypt data\")\n",
        "        print(\"3. Decrypt data\")\n",
        "        print(\"4. Exit\")\n",
        "\n",
        "        choice = input(\"Enter your choice: \")\n",
        "\n",
        "        if choice == \"1\":\n",
        "            generate_key()\n",
        "        elif choice == \"2\":\n",
        "            key_file = input(\"Enter the key file name (default: secret.key): \") or \"secret.key\"\n",
        "            key = load_key(key_file)\n",
        "            if key:\n",
        "                data = input(\"Enter data to encrypt: \")\n",
        "                encrypted = encrypt_data(data, key)\n",
        "                print(f\"Encrypted Data: {encrypted}\")\n",
        "        elif choice == \"3\":\n",
        "            key_file = input(\"Enter the key file name (default: secret.key): \") or \"secret.key\"\n",
        "            key = load_key(key_file)\n",
        "            if key:\n",
        "                encrypted_data = input(\"Enter data to decrypt: \").encode()\n",
        "                decrypted = decrypt_data(encrypted_data, key)\n",
        "                if decrypted:\n",
        "                    print(f\"Decrypted Data: {decrypted}\")\n",
        "        elif choice == \"4\":\n",
        "            print(\"Exiting... Goodbye!\")\n",
        "            break\n",
        "        else:\n",
        "            print(\"Invalid choice. Please try again.\")"
      ],
      "metadata": {
        "colab": {
          "base_uri": "https://localhost:8080/"
        },
        "id": "WIMeGwdL00cX",
        "outputId": "28058f1c-32a3-469a-a3e5-62d0dba3ca4f"
      },
      "execution_count": null,
      "outputs": [
        {
          "output_type": "stream",
          "name": "stdout",
          "text": [
            "=== Data Encryption & Decryption Tool ===\n",
            "\n",
            "Options:\n",
            "1. Generate a new key\n",
            "2. Encrypt data\n",
            "3. Decrypt data\n",
            "4. Exit\n",
            "Encrypted Data: b'gAAAAABnN0Dj9kb5_g37nge_OHYbwAtVrpQeSp7fDCWcTQwlQUVSt_Na_IEesK63sGD_en8f4CldZXeXKDSkEt6by_kkSWU2yA=='\n",
            "\n",
            "Options:\n",
            "1. Generate a new key\n",
            "2. Encrypt data\n",
            "3. Decrypt data\n",
            "4. Exit\n",
            "Key saved to secret.key\n",
            "\n",
            "Options:\n",
            "1. Generate a new key\n",
            "2. Encrypt data\n",
            "3. Decrypt data\n",
            "4. Exit\n",
            "Encrypted Data: b'gAAAAABnN0EE3RG8q_xoPNy6SHgO1sH6NCmdvAuU7ZqgYHivIhIHioLc5Ej98rKXTBF_zqmtvNXpsF1rt9sOU-3xe-USmPLyPA=='\n",
            "\n",
            "Options:\n",
            "1. Generate a new key\n",
            "2. Encrypt data\n",
            "3. Decrypt data\n",
            "4. Exit\n",
            "Enter your choice: \n",
            "Invalid choice. Please try again.\n",
            "\n",
            "Options:\n",
            "1. Generate a new key\n",
            "2. Encrypt data\n",
            "3. Decrypt data\n",
            "4. Exit\n"
          ]
        }
      ]
    },
    {
      "cell_type": "code",
      "source": [],
      "metadata": {
        "id": "wvA1FyNs1TSi"
      },
      "execution_count": null,
      "outputs": []
    }
  ]
}